{
 "cells": [
  {
   "cell_type": "code",
   "execution_count": 31,
   "id": "5a5628a6-4d84-4837-888f-cd2f94e3a727",
   "metadata": {},
   "outputs": [],
   "source": [
    "import jax.numpy as jnp\n",
    "import timeit\n",
    "import matplotlib.pyplot as plt\n",
    "from jax import jit, random\n",
    "\n",
    "nx = 80\n",
    "ny = 40\n",
    "\n",
    "precision = jnp.float32\n",
    "\n",
    "w = jnp.asarray([4/9,1/9,1/9,1/9,1/9,1/36,1/36,1/36,1/36],dtype=precision)\n",
    "ex = jnp.asarray([0,1,0,-1,0,1,-1,-1,1],dtype=int)\n",
    "ey = jnp.asarray([0,0,1,0,-1,1,1,-1,-1],dtype=int)\n",
    "\n",
    "f = jnp.zeros((9,ny,nx),dtype=precision)\n",
    "p = jnp.zeros((ny,nx),dtype=precision)\n",
    "ux = jnp.zeros((ny,nx),dtype=precision)\n",
    "uy = jnp.zeros((ny,nx),dtype=precision)\n",
    "\n",
    "def simulate(f,flag,tau,p,ux,uy):\n",
    "    "
   ]
  },
  {
   "cell_type": "code",
   "execution_count": 32,
   "id": "3a6f7abc-0bff-4dac-adfd-de4ca20ebbc2",
   "metadata": {},
   "outputs": [
    {
     "name": "stdout",
     "output_type": "stream",
     "text": [
      "17.7 s ± 310 ms per loop (mean ± std. dev. of 7 runs, 1 loop each)\n"
     ]
    }
   ],
   "source": [
    "%timeit selu(x,y,flag)[1].block_until_ready()\n",
    "%timeit selu_jit(x,y,flag)[1].block_until_ready()\n",
    "\n",
    "%timeit selu2(x,y,flag)[1].block_until_ready()\n",
    "%timeit selu2_jit(x,y,flag)[1].block_until_ready()"
   ]
  },
  {
   "cell_type": "code",
   "execution_count": null,
   "id": "39073eb8",
   "metadata": {},
   "outputs": [
    {
     "name": "stdout",
     "output_type": "stream",
     "text": [
      "1.38 s ± 32.2 ms per loop (mean ± std. dev. of 7 runs, 1 loop each)\n",
      "7.48 µs ± 281 ns per loop (mean ± std. dev. of 7 runs, 100,000 loops each)\n"
     ]
    }
   ],
   "source": [
    "def selu3(x, y, flag):\n",
    "    for i in range(len(x)):\n",
    "        if flag[i] == 1:\n",
    "            x = x.at[i].set(2.0)\n",
    "            y = y.at[i].set(2.0)\n",
    "        else:\n",
    "            x = x.at[i].set(3.0)\n",
    "            y = y.at[i].set(4.0)\n",
    "    return x,y\n",
    "\n",
    "selu3_jit = jit(selu2)\n",
    "\n",
    "%timeit selu3(x,y,flag)[1].block_until_ready()\n",
    "%timeit selu3_jit(x,y,flag)[1].block_until_ready()"
   ]
  }
 ],
 "metadata": {
  "kernelspec": {
   "display_name": "Python 3 (ipykernel)",
   "language": "python",
   "name": "python3"
  },
  "language_info": {
   "codemirror_mode": {
    "name": "ipython",
    "version": 3
   },
   "file_extension": ".py",
   "mimetype": "text/x-python",
   "name": "python",
   "nbconvert_exporter": "python",
   "pygments_lexer": "ipython3",
   "version": "3.11.2"
  }
 },
 "nbformat": 4,
 "nbformat_minor": 5
}
